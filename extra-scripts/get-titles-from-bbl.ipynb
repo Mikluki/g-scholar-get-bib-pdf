{
 "cells": [
  {
   "cell_type": "code",
   "execution_count": null,
   "metadata": {},
   "outputs": [],
   "source": [
    "import re\n"
   ]
  },
  {
   "cell_type": "code",
   "execution_count": null,
   "metadata": {},
   "outputs": [],
   "source": [
    "titles = []\n",
    "with open('main-TEXT-v0.5.bbl') as f:\n",
    "    lines = f.readlines()\n",
    "    lines = ' '.join(lines)\n",
    "    lines = re.sub('bibitem{.*}', '___', lines).replace('\\n', '')\n",
    "    lines = lines.split('\\___')\n",
    "    for line in lines:\n",
    "        if '``' in line:\n",
    "            title = re.findall(r\"``.*''\", line)[0]\n",
    "            title = re.sub(r\"\\\\href{.*{|`|'|,\", '', title)\n",
    "            title = '\"'+re.sub(r\"\\s+\", ' ', title)+'\"'\n",
    "            print(title)\n"
   ]
  }
 ],
 "metadata": {
  "kernelspec": {
   "display_name": "Python 3.10.6 64-bit",
   "language": "python",
   "name": "python3"
  },
  "language_info": {
   "name": "python",
   "version": "3.10.6"
  },
  "orig_nbformat": 4,
  "vscode": {
   "interpreter": {
    "hash": "916dbcbb3f70747c44a77c7bcd40155683ae19c65e1c03b4aa3499c5328201f1"
   }
  }
 },
 "nbformat": 4,
 "nbformat_minor": 2
}
